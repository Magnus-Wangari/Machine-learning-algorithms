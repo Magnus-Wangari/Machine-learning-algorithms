{
  "nbformat": 4,
  "nbformat_minor": 0,
  "metadata": {
    "colab": {
      "name": "PCA.ipynb",
      "provenance": [],
      "authorship_tag": "ABX9TyMgrRUxwmVhtjKCqy8qdVxs",
      "include_colab_link": true
    },
    "kernelspec": {
      "name": "python3",
      "display_name": "Python 3"
    }
  },
  "cells": [
    {
      "cell_type": "markdown",
      "metadata": {
        "id": "view-in-github",
        "colab_type": "text"
      },
      "source": [
        "<a href=\"https://colab.research.google.com/github/Magnus-Wangari/Machine-learning-algorithms/blob/master/PCA.ipynb\" target=\"_parent\"><img src=\"https://colab.research.google.com/assets/colab-badge.svg\" alt=\"Open In Colab\"/></a>"
      ]
    },
    {
      "cell_type": "code",
      "metadata": {
        "id": "S8RwetzE8LZY",
        "colab_type": "code",
        "colab": {}
      },
      "source": [
        "\n",
        "import pandas as pd\n",
        "from numpy import array\n",
        "from sklearn.decomposition import PCA\n",
        "from sklearn.preprocessing import StandardScaler\n",
        "\n"
      ],
      "execution_count": 0,
      "outputs": []
    },
    {
      "cell_type": "code",
      "metadata": {
        "id": "Z_ZPZzFG8_TV",
        "colab_type": "code",
        "colab": {}
      },
      "source": [
        "from google.colab import files\n",
        "uploades = files.upload()"
      ],
      "execution_count": 0,
      "outputs": []
    },
    {
      "cell_type": "code",
      "metadata": {
        "id": "axwE-JLv9q9E",
        "colab_type": "code",
        "colab": {}
      },
      "source": [
        "data=pd.read_csv('Nairobi Office Price Ex.csv')\n",
        "#data"
      ],
      "execution_count": 0,
      "outputs": []
    },
    {
      "cell_type": "code",
      "metadata": {
        "id": "JDpyqYii-R5c",
        "colab_type": "code",
        "colab": {}
      },
      "source": [
        "data.info()"
      ],
      "execution_count": 0,
      "outputs": []
    },
    {
      "cell_type": "code",
      "metadata": {
        "id": "HaEU60wj_EoK",
        "colab_type": "code",
        "colab": {}
      },
      "source": [
        "nominal=['LOC','FUR','WATER','HK_SER']\n",
        "ordinal=['AMB','PROX_SCH','PROX_ROAD','PROX_MALL']\n",
        "numerical=['SIZE']\n",
        "target=['PRICE']\n",
        "\n",
        "\n",
        "categorical_data=data.select_dtypes(include=['object']).copy()\n",
        "column_names=(categorical_data.columns)\n",
        "#categorical_data.head()\n",
        "for feature in column_names:\n",
        "  categorical_data[feature]=categorical_data[feature].astype('category')\n",
        "for feature in ordinal:\n",
        "  categorical_data[feature]=categorical_data[feature].cat.codes\n",
        "\n",
        "categorical_data.head() "
      ],
      "execution_count": 0,
      "outputs": []
    },
    {
      "cell_type": "code",
      "metadata": {
        "id": "o635xYLLAKL6",
        "colab_type": "code",
        "colab": {}
      },
      "source": [
        "data_copy=categorical_data.copy()\n",
        "\n",
        "data_copy = pd.concat([pd.get_dummies(data_copy[nominal]),data_copy],axis=1) \n",
        "data_copy.drop(nominal,axis=1,inplace=True)\n",
        "#data_copy\n",
        "new_data = pd.concat([data_copy,data[numerical],data[target]],axis=1)\n",
        "new_data"
      ],
      "execution_count": 0,
      "outputs": []
    },
    {
      "cell_type": "code",
      "metadata": {
        "id": "y3Gg9B0fBXQF",
        "colab_type": "code",
        "outputId": "87ee1ab4-8be8-4a12-dcec-ffb98a49639c",
        "colab": {
          "base_uri": "https://localhost:8080/",
          "height": 988
        }
      },
      "source": [
        "all_features= list(new_data.columns)\n",
        "#all_features\n",
        "X = new_data.loc[:,all_features].values# slicing\n",
        "y = new_data.loc[:,['PRICE']].values\n",
        "#y\n",
        "X"
      ],
      "execution_count": 0,
      "outputs": [
        {
          "output_type": "execute_result",
          "data": {
            "text/plain": [
              "array([[ 0.        ,  0.        ,  1.        ,  0.        ,  0.        ,\n",
              "         0.        ,  1.        ,  0.        ,  1.        ,  0.        ,\n",
              "         1.        ,  2.        ,  0.        ,  1.        ,  1.        ,\n",
              "        32.50234527, 31.70700585],\n",
              "       [ 0.        ,  0.        ,  0.        ,  0.        ,  1.        ,\n",
              "         0.        ,  1.        ,  1.        ,  0.        ,  1.        ,\n",
              "         0.        ,  1.        ,  1.        ,  1.        ,  1.        ,\n",
              "        53.42680403, 68.77759598],\n",
              "       [ 0.        ,  0.        ,  1.        ,  0.        ,  0.        ,\n",
              "         1.        ,  0.        ,  0.        ,  1.        ,  0.        ,\n",
              "         1.        ,  0.        ,  0.        ,  1.        ,  1.        ,\n",
              "        61.53035803, 62.5623823 ],\n",
              "       [ 0.        ,  0.        ,  1.        ,  0.        ,  0.        ,\n",
              "         0.        ,  1.        ,  0.        ,  1.        ,  0.        ,\n",
              "         1.        ,  1.        ,  0.        ,  0.        ,  0.        ,\n",
              "        47.47563963, 71.54663223],\n",
              "       [ 1.        ,  0.        ,  0.        ,  0.        ,  0.        ,\n",
              "         1.        ,  0.        ,  0.        ,  1.        ,  0.        ,\n",
              "         1.        ,  1.        ,  0.        ,  1.        ,  1.        ,\n",
              "        59.81320787, 87.23092513],\n",
              "       [ 0.        ,  1.        ,  0.        ,  0.        ,  0.        ,\n",
              "         1.        ,  0.        ,  1.        ,  0.        ,  0.        ,\n",
              "         1.        ,  2.        ,  0.        ,  0.        ,  1.        ,\n",
              "        55.14218841, 78.21151827],\n",
              "       [ 0.        ,  0.        ,  0.        ,  1.        ,  0.        ,\n",
              "         1.        ,  0.        ,  1.        ,  0.        ,  0.        ,\n",
              "         1.        ,  3.        ,  1.        ,  1.        ,  0.        ,\n",
              "        52.21179669, 79.64197305],\n",
              "       [ 0.        ,  0.        ,  0.        ,  1.        ,  0.        ,\n",
              "         0.        ,  1.        ,  0.        ,  1.        ,  1.        ,\n",
              "         0.        ,  2.        ,  0.        ,  0.        ,  1.        ,\n",
              "        39.29956669, 59.17148932],\n",
              "       [ 0.        ,  1.        ,  0.        ,  0.        ,  0.        ,\n",
              "         0.        ,  1.        ,  0.        ,  1.        ,  1.        ,\n",
              "         0.        ,  1.        ,  1.        ,  0.        ,  0.        ,\n",
              "        48.10504169, 75.3312423 ],\n",
              "       [ 0.        ,  0.        ,  1.        ,  0.        ,  0.        ,\n",
              "         0.        ,  1.        ,  1.        ,  0.        ,  1.        ,\n",
              "         0.        ,  2.        ,  0.        ,  0.        ,  0.        ,\n",
              "        52.55001444, 71.30087989],\n",
              "       [ 0.        ,  0.        ,  0.        ,  0.        ,  1.        ,\n",
              "         0.        ,  1.        ,  0.        ,  1.        ,  0.        ,\n",
              "         1.        ,  0.        ,  1.        ,  1.        ,  0.        ,\n",
              "        45.41973014, 55.16567715],\n",
              "       [ 0.        ,  0.        ,  0.        ,  1.        ,  0.        ,\n",
              "         1.        ,  0.        ,  0.        ,  1.        ,  0.        ,\n",
              "         1.        ,  1.        ,  1.        ,  0.        ,  1.        ,\n",
              "        54.35163488, 82.47884676],\n",
              "       [ 1.        ,  0.        ,  0.        ,  0.        ,  0.        ,\n",
              "         0.        ,  1.        ,  1.        ,  0.        ,  1.        ,\n",
              "         0.        ,  1.        ,  1.        ,  1.        ,  0.        ,\n",
              "        44.1640495 , 62.00892325],\n",
              "       [ 0.        ,  0.        ,  1.        ,  0.        ,  0.        ,\n",
              "         0.        ,  1.        ,  0.        ,  1.        ,  0.        ,\n",
              "         1.        ,  1.        ,  1.        ,  1.        ,  1.        ,\n",
              "        58.16847072, 75.39287043]])"
            ]
          },
          "metadata": {
            "tags": []
          },
          "execution_count": 31
        }
      ]
    },
    {
      "cell_type": "code",
      "metadata": {
        "id": "IDdBoTh8C4rO",
        "colab_type": "code",
        "colab": {}
      },
      "source": [
        "#standardizing\n",
        "X = StandardScaler().fit_transform(X)\n",
        "X \n"
      ],
      "execution_count": 0,
      "outputs": []
    },
    {
      "cell_type": "code",
      "metadata": {
        "id": "8PeFrxlLG5EM",
        "colab_type": "code",
        "colab": {}
      },
      "source": [
        "pca= PCA(n_components=2)\n",
        "pc_s = pca.fit_transform(X)\n",
        "pca_data = pd.DataFrame(pc_s,columns=['PC1','PC2'])\n",
        "final_data = pd.concat([pca_data,data[target]],axis = 1)\n",
        "final_data\n",
        "\n"
      ],
      "execution_count": 0,
      "outputs": []
    },
    {
      "cell_type": "code",
      "metadata": {
        "id": "echpYnJQN0G1",
        "colab_type": "code",
        "outputId": "2f5d2e1f-c93a-4eb0-bfb9-17f0d2d27b6b",
        "colab": {
          "base_uri": "https://localhost:8080/",
          "height": 35
        }
      },
      "source": [
        "pca.explained_variance_ratio_"
      ],
      "execution_count": 0,
      "outputs": [
        {
          "output_type": "execute_result",
          "data": {
            "text/plain": [
              "array([0.23829154, 0.19268058])"
            ]
          },
          "metadata": {
            "tags": []
          },
          "execution_count": 41
        }
      ]
    }
  ]
}